{
 "cells": [
  {
   "cell_type": "code",
   "execution_count": 1,
   "metadata": {},
   "outputs": [
    {
     "name": "stdout",
     "output_type": "stream",
     "text": [
      "Using matplotlib backend: MacOSX\n"
     ]
    }
   ],
   "source": [
    "import numpy as np\n",
    "import matplotlib.pyplot as plt\n",
    "\n",
    "%matplotlib"
   ]
  },
  {
   "cell_type": "code",
   "execution_count": 127,
   "metadata": {},
   "outputs": [
    {
     "data": {
      "text/plain": [
       "[<matplotlib.lines.Line2D at 0x1263ef908>]"
      ]
     },
     "execution_count": 127,
     "metadata": {},
     "output_type": "execute_result"
    },
    {
     "data": {
      "image/png": "[encoded data removed]",
      "text/plain": [
       "<matplotlib.figure.Figure at 0x126978940>"
      ]
     },
     "metadata": {},
     "output_type": "display_data"
    }
   ],
   "source": [
    "def _phi_t(t, s, tau):\n",
    "    return ((t - s) % tau) / tau\n",
    "\n",
    "def k_t(t, s=0, tau=4, r_on=0.6):\n",
    "    \n",
    "    phi = _phi_t(t, s=s, tau=tau)\n",
    "    \n",
    "    low = phi < 0.5 * r_on\n",
    "    mid = np.logical_and(phi >= 0.5 * r_on, phi < r_on)\n",
    "    \n",
    "    k = np.zeros_like(phi)\n",
    "    k[low] = 2 * phi[low] / r_on\n",
    "    k[mid] = 2 - (2 * phi[mid] / r_on)\n",
    "        \n",
    "    return k\n",
    "\n",
    "\n",
    "n_examples = 3\n",
    "colors = list(['b', 'g', 'r', 'c', 'm', 'y', 'k', 'w'])\n",
    "\n",
    "plt.plot(k_t(np.arange(10), s=1))\n",
    "# _, axes = plt.subplots(1,1)\n",
    "# for i, r_on in enumerate([0.3, 0.4, 1.0]):\n",
    "#     axes.plot(k_t(np.arange(20), r_on=r_on), color=colors[i], label=\"r_on={:.3f}\".format(r_on))\n",
    "# axes.legend()\n",
    "\n",
    "# _, axes = plt.subplots(1,1)\n",
    "# for i, s in enumerate([0, 1, 3]):\n",
    "#     axes.plot(k_t(np.arange(20), s=s), color=colors[i], label=\"s={}\".format(s))\n",
    "# axes.legend()\n",
    "\n",
    "# _, axes = plt.subplots(1,1)\n",
    "# for i, tau in enumerate([4, 6, 10]):\n",
    "#     axes.plot(k_t(np.arange(20), tau=tau), color=colors[i], label=\"tau={}\".format(tau))\n",
    "# axes.legend()\n"
   ]
  },
  {
   "cell_type": "code",
   "execution_count": 49,
   "metadata": {},
   "outputs": [
    {
     "data": {
      "text/plain": [
       "0"
      ]
     },
     "execution_count": 49,
     "metadata": {},
     "output_type": "execute_result"
    }
   ],
   "source": [
    "2.9999 % 3"
   ]
  },
  {
   "cell_type": "code",
   "execution_count": null,
   "metadata": {},
   "outputs": [],
   "source": []
  }
 ],
 "metadata": {
  "kernelspec": {
   "display_name": "Python 3",
   "language": "python",
   "name": "python3"
  },
  "language_info": {
   "codemirror_mode": {
    "name": "ipython",
    "version": 3
   },
   "file_extension": ".py",
   "mimetype": "text/x-python",
   "name": "python",
   "nbconvert_exporter": "python",
   "pygments_lexer": "ipython3",
   "version": "3.6.1"
  }
 },
 "nbformat": 4,
 "nbformat_minor": 2
}
